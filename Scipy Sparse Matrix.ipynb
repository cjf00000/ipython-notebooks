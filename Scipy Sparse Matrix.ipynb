{
 "metadata": {
  "name": "Scipy Sparse Matrix"
 },
 "nbformat": 3,
 "nbformat_minor": 0,
 "worksheets": [
  {
   "cells": [
    {
     "cell_type": "markdown",
     "metadata": {},
     "source": [
      "# Creation of sparse matrix"
     ]
    },
    {
     "cell_type": "code",
     "collapsed": false,
     "input": [
      "from numpy import *\n",
      "from scipy.sparse import *\n",
      "\n",
      "A = csr_matrix([[1, 2, 0],\n",
      "                [0, 0, 3],\n",
      "                [4, 0, 5]])\n",
      "v = array([1, 0, -1])\n",
      "\n",
      "print A"
     ],
     "language": "python",
     "metadata": {},
     "outputs": [
      {
       "output_type": "stream",
       "stream": "stdout",
       "text": [
        "  (0, 0)\t1\n",
        "  (0, 1)\t2\n",
        "  (1, 2)\t3\n",
        "  (2, 0)\t4\n",
        "  (2, 2)\t5\n"
       ]
      }
     ],
     "prompt_number": 17
    },
    {
     "cell_type": "markdown",
     "metadata": {},
     "source": [
      "# Conversion to dense matrix"
     ]
    },
    {
     "cell_type": "code",
     "collapsed": false,
     "input": [
      "A.todense()"
     ],
     "language": "python",
     "metadata": {},
     "outputs": [
      {
       "output_type": "pyout",
       "prompt_number": 10,
       "text": [
        "matrix([[1, 2, 0],\n",
        "        [0, 0, 3],\n",
        "        [4, 0, 5]])"
       ]
      }
     ],
     "prompt_number": 10
    },
    {
     "cell_type": "markdown",
     "metadata": {},
     "source": [
      "# Arithmetic operations\n",
      "There can be two ways\n",
      "\n",
      "* Use sparse_matrix.dot(blah)\n",
      "* Convert sparse matrix to dense matrix"
     ]
    },
    {
     "cell_type": "code",
     "collapsed": false,
     "input": [
      "A.dot(v)"
     ],
     "language": "python",
     "metadata": {},
     "outputs": [
      {
       "output_type": "pyout",
       "prompt_number": 7,
       "text": [
        "array([ 1, -3, -1])"
       ]
      }
     ],
     "prompt_number": 7
    },
    {
     "cell_type": "code",
     "collapsed": false,
     "input": [
      "A.todense() * matrix(v).transpose()"
     ],
     "language": "python",
     "metadata": {},
     "outputs": [
      {
       "output_type": "pyout",
       "prompt_number": 22,
       "text": [
        "matrix([[ 1],\n",
        "        [-3],\n",
        "        [-1]])"
       ]
      }
     ],
     "prompt_number": 22
    },
    {
     "cell_type": "markdown",
     "metadata": {},
     "source": [
      "# Reference\n",
      "\n",
      "* [Official document](http://docs.scipy.org/doc/scipy/reference/sparse.html)"
     ]
    },
    {
     "cell_type": "code",
     "collapsed": false,
     "input": [],
     "language": "python",
     "metadata": {},
     "outputs": []
    }
   ],
   "metadata": {}
  }
 ]
}